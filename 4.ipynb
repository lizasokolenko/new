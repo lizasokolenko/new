{
 "cells": [
  {
   "cell_type": "markdown",
   "metadata": {},
   "source": [
    "Сравниваем первую часть прилагательного со списком существительных."
   ]
  },
  {
   "cell_type": "code",
   "execution_count": 2,
   "metadata": {},
   "outputs": [],
   "source": [
    "line = ['хлеб','лед','лицо','дерево', 'иза', 'рука', 'щека', 'полушарие', 'мозг', 'лоб', 'животное', 'голова', 'человек',\n",
    "             'апельсин', 'нога','зверь', 'орех', 'хлебец', 'цвет',\n",
    "             'вона' ,'рыба','брюхо','банан', 'ствол', 'плод', 'губа', 'палец', 'змея', 'тело', 'черный',\n",
    "             'спина', 'сосна', 'диван', 'переплет', 'лимон', 'дуб', 'выветривание', 'надпочечник', 'мозжечок',\n",
    "             'больной', 'лягушка', 'свинья', 'барабан', 'земля', 'яйцо', 'сыр', 'собака', 'ладонь', 'птица', 'угол',\n",
    "             'подбородок', 'девушка', 'женщина', 'жир', 'пирог', 'медведь', 'шея', 'волосы', 'акула', 'рептилия',\n",
    "             'береза', 'затылок', 'плечо', 'сапог', 'мышца', 'сантиметр', 'кресло', 'книга', 'чемодан', 'мясо',\n",
    "             'помидор', 'семя', 'мандарин', 'платформа', 'корень', 'арбуз', 'леопард','волк','подсолнечник']"
   ]
  },
  {
   "cell_type": "markdown",
   "metadata": {},
   "source": [
    "В переменной am должен содержаться словарь частотностей прилагательных."
   ]
  },
  {
   "cell_type": "code",
   "execution_count": 3,
   "metadata": {},
   "outputs": [
    {
     "name": "stdout",
     "output_type": "stream",
     "text": [
      "{}\n"
     ]
    }
   ],
   "source": [
    "am = {}\n",
    "line_dic = {}\n",
    "for word in am:\n",
    "    for l in line:\n",
    "        if word[:3]==l[:3]:\n",
    "            line_dic[l]=am[word]\n",
    "            print (word, am[word])\n",
    "print(line_dic)"
   ]
  },
  {
   "cell_type": "markdown",
   "metadata": {},
   "source": [
    "Дополняем новый словарь списком прилагательных с частотностью 0."
   ]
  },
  {
   "cell_type": "code",
   "execution_count": 4,
   "metadata": {},
   "outputs": [],
   "source": [
    "new_dic={}\n",
    "for li in line:\n",
    "    if li not in line_dic.keys():\n",
    "        new_dic[li]=0\n",
    "    else:\n",
    "        new_dic[li]=line_dic[li]\n",
    "for el in new_dic.items():\n",
    "    print(el[1])"
   ]
  },
  {
   "cell_type": "markdown",
   "metadata": {},
   "source": [
    "Заполняем таблицу для прилагателных."
   ]
  },
  {
   "cell_type": "code",
   "execution_count": null,
   "metadata": {},
   "outputs": [],
   "source": []
  }
 ],
 "metadata": {
  "kernelspec": {
   "display_name": "Python 3",
   "language": "python",
   "name": "python3"
  },
  "language_info": {
   "codemirror_mode": {
    "name": "ipython",
    "version": 3
   },
   "file_extension": ".py",
   "mimetype": "text/x-python",
   "name": "python",
   "nbconvert_exporter": "python",
   "pygments_lexer": "ipython3",
   "version": "3.6.4"
  }
 },
 "nbformat": 4,
 "nbformat_minor": 2
}
