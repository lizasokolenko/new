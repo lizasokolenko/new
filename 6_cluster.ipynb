{
 "cells": [
  {
   "cell_type": "markdown",
   "metadata": {},
   "source": [
    "# Группировка по семантическим призакам\n",
    "Берем лист 6 из нашей таблицы. \n",
    "В этой таблице нам нужно автоматически разбить на группы существительные(те, что в самом левом столбце). \n",
    "А разбивать мы их будем на основе их сочетаемости со словами, обозначающими разные оболочки. \n",
    "При помощи кластеризации мы получим автоматически набор фреймов для этого поля."
   ]
  },
  {
   "cell_type": "code",
   "execution_count": 1,
   "metadata": {},
   "outputs": [],
   "source": [
    "import numpy as np\n",
    "import matplotlib.pyplot as plt\n",
    "import scipy\n",
    "import scipy.cluster.hierarchy as hcluster"
   ]
  },
  {
   "cell_type": "markdown",
   "metadata": {},
   "source": [
    "Сначала мы даем программе на вход матрицу чисел. \n",
    "Каждое слово представляется в виде вектора, т.е. в виде набора чисел из своей строчки.\n",
    "Подаем алгоритму на вход только числа построчно и названия строк. "
   ]
  },
  {
   "cell_type": "code",
   "execution_count": 3,
   "metadata": {},
   "outputs": [],
   "source": [
    "array = []\n",
    "with open('data.txt', 'r') as f_matrix:\n",
    "    for line in f_matrix:\n",
    "        vector = []\n",
    "        line = line.strip('\\r\\n')\n",
    "        line = line.split('\\t')\n",
    "        if len(line) > 2:\n",
    "            for num in line[1:]:\n",
    "                if len(num) > 0:\n",
    "                    vector.append(float(num))\n",
    "        array.append(vector)\n",
    "X = np.array(array)"
   ]
  },
  {
   "cell_type": "markdown",
   "metadata": {},
   "source": [
    "В этом блоке программы мы собираем массив из названий строк. \n",
    "Он нужен нам для того, чтобы потом мы могли посмотреть, какие слова попали в какой кластер."
   ]
  },
  {
   "cell_type": "code",
   "execution_count": 4,
   "metadata": {},
   "outputs": [],
   "source": [
    "rows = []\n",
    "with open('data.txt', 'r') as f_rows:\n",
    "     for line in f_rows:\n",
    "        try:\n",
    "            line = line.split()\n",
    "            rows.append(line[0])\n",
    "        except IndexError:\n",
    "            continue"
   ]
  },
  {
   "cell_type": "markdown",
   "metadata": {},
   "source": [
    "Сама кластеризация"
   ]
  },
  {
   "cell_type": "code",
   "execution_count": 5,
   "metadata": {},
   "outputs": [
    {
     "name": "stdout",
     "output_type": "stream",
     "text": [
      "Estimated number of clusters: 16\n"
     ]
    }
   ],
   "source": [
    "clusters = hcluster.fclusterdata(X, 1.0, \"inconsistent\", \"cosine\")\n",
    "# print(clusters)\n",
    "print('Estimated number of clusters: %d' %len(set(clusters)))\n",
    "\n",
    "dict = {}\n",
    "for i in range(len(clusters)):\n",
    "    try:\n",
    "        label = str(clusters[i])\n",
    "        if label not in dict:\n",
    "            dict[label] = []\n",
    "            dict[label].append(rows[i])\n",
    "        else:\n",
    "            dict[label].append(rows[i])\n",
    "    except ValueError:\n",
    "        continue"
   ]
  },
  {
   "cell_type": "markdown",
   "metadata": {},
   "source": [
    "Записываем в файл"
   ]
  },
  {
   "cell_type": "code",
   "execution_count": null,
   "metadata": {},
   "outputs": [],
   "source": [
    "with open('ff.txt', 'w') as final:\n",
    "    for cluster in dict:\n",
    "        final.write('\\r\\n'+cluster+':')\n",
    "        group = ('\\r\\n').join(dict[cluster])\n",
    "        final.write('\\r\\n'+group)"
   ]
  }
 ],
 "metadata": {
  "kernelspec": {
   "display_name": "Python 3",
   "language": "python",
   "name": "python3"
  },
  "language_info": {
   "codemirror_mode": {
    "name": "ipython",
    "version": 3
   },
   "file_extension": ".py",
   "mimetype": "text/x-python",
   "name": "python",
   "nbconvert_exporter": "python",
   "pygments_lexer": "ipython3",
   "version": "3.6.4"
  }
 },
 "nbformat": 4,
 "nbformat_minor": 2
}
