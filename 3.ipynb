{
 "cells": [
  {
   "cell_type": "markdown",
   "metadata": {},
   "source": [
    "В таблице мы сократили список слов, убрали те, суммарная частотность которых для всех слов меньше четырех.\n",
    "Слова, которые у нас остались, записываем в переменную line."
   ]
  },
  {
   "cell_type": "code",
   "execution_count": 1,
   "metadata": {},
   "outputs": [],
   "source": [
    "line = ['хлеб','лед','лицо','дерево', 'иза', 'рука', 'щека', 'полушарие', 'мозг', 'лоб', 'животное', 'голова', 'человек',\n",
    "             'апельсин', 'нога','зверь', 'орех', 'хлебец', 'цвет',\n",
    "             'вона' ,'рыба','брюхо','банан', 'ствол', 'плод', 'губа', 'палец', 'змея', 'тело', 'черный',\n",
    "             'спина', 'сосна', 'диван', 'переплет', 'лимон', 'дуб', 'выветривание', 'надпочечник', 'мозжечок',\n",
    "             'больной', 'лягушка', 'свинья', 'барабан', 'земля', 'яйцо', 'сыр', 'собака', 'ладонь', 'птица', 'угол',\n",
    "             'подбородок', 'девушка', 'женщина', 'жир', 'пирог', 'медведь', 'шея', 'волосы', 'акула', 'рептилия',\n",
    "             'береза', 'затылок', 'плечо', 'сапог', 'мышца', 'сантиметр', 'кресло', 'книга', 'чемодан', 'мясо',\n",
    "             'помидор', 'семя', 'мандарин', 'платформа', 'корень', 'арбуз', 'леопард','волк','подсолнечник']"
   ]
  },
  {
   "cell_type": "markdown",
   "metadata": {},
   "source": [
    "В переменную dic вставляем ранее посчитанные и выкачанные частотности каждого слова."
   ]
  },
  {
   "cell_type": "code",
   "execution_count": 2,
   "metadata": {},
   "outputs": [
    {
     "name": "stdout",
     "output_type": "stream",
     "text": [
      "{}\n"
     ]
    }
   ],
   "source": [
    "dic={}\n",
    "line_dic={}\n",
    "for word in dic:\n",
    "    for l in line:\n",
    "        if word == l:\n",
    "            line_dic[l]=dic[word]\n",
    "            print (word, dic[word])\n",
    "print(line_dic)"
   ]
  },
  {
   "cell_type": "markdown",
   "metadata": {},
   "source": [
    "Добавляем слова, частотность которых 0, и заполняем таблицу для существительных."
   ]
  },
  {
   "cell_type": "code",
   "execution_count": null,
   "metadata": {},
   "outputs": [],
   "source": [
    "new_dic={}\n",
    "for li in line:\n",
    "    if li not in line_dic.keys():\n",
    "        new_dic[li]=0\n",
    "    else:\n",
    "        new_dic[li]=line_dic[li]\n",
    "for el in new_dic.items():\n",
    "    print(el[1])"
   ]
  }
 ],
 "metadata": {
  "kernelspec": {
   "display_name": "Python 3",
   "language": "python",
   "name": "python3"
  },
  "language_info": {
   "codemirror_mode": {
    "name": "ipython",
    "version": 3
   },
   "file_extension": ".py",
   "mimetype": "text/x-python",
   "name": "python",
   "nbconvert_exporter": "python",
   "pygments_lexer": "ipython3",
   "version": "3.6.4"
  }
 },
 "nbformat": 4,
 "nbformat_minor": 2
}
